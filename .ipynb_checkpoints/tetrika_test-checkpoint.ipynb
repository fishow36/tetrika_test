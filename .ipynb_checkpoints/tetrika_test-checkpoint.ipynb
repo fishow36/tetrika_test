{
 "cells": [
  {
   "cell_type": "markdown",
   "metadata": {},
   "source": [
    "### Task 1:\n",
    "Дан массив чисел, состоящий из некоторого количества подряд идущих единиц, за которыми следует какое-то количество подряд идущих нулей: 111111111111111111111111100000000. \n",
    "Найти индекс первого нуля (то есть найти такое место, где заканчиваются единицы, и начинаются нули)\n",
    "\n",
    "Какова сложность вашего алгоритма?\n"
   ]
  },
  {
   "cell_type": "markdown",
   "metadata": {},
   "source": [
    "Можно выполнить задание с помощью встроенного метода для списков:"
   ]
  },
  {
   "cell_type": "code",
   "execution_count": 1,
   "metadata": {},
   "outputs": [],
   "source": [
    "def task1_1(array):\n",
    "    return array.index(0)"
   ]
  },
  {
   "cell_type": "markdown",
   "metadata": {},
   "source": [
    "Но сложность этого метода -- O(n), т.к. метод работает на любых, необязательно отсортированных массивах.\n",
    "В нашем случае массив отсортирован, поэтому можно применить бинарный поиск, сложность которого -- O(log(n)):"
   ]
  },
  {
   "cell_type": "code",
   "execution_count": 2,
   "metadata": {},
   "outputs": [],
   "source": [
    "def task1_2(array):\n",
    "    left = 0\n",
    "    right = len(array) - 1\n",
    "    while True:\n",
    "        ind = (left + right) // 2\n",
    "        if left == right and array[ind] == 1:\n",
    "            break\n",
    "        if array[ind] == 0:\n",
    "            if ind == 0 or array[ind - 1] == 1:\n",
    "                return ind\n",
    "            else:\n",
    "                right = ind - 1\n",
    "        else:\n",
    "            left = ind + 1\n",
    "    return None"
   ]
  },
  {
   "cell_type": "markdown",
   "metadata": {},
   "source": [
    "Проверим, что ответы совпадают на всех строках длины 100:"
   ]
  },
  {
   "cell_type": "code",
   "execution_count": 3,
   "metadata": {},
   "outputs": [],
   "source": [
    "for i in range(100):\n",
    "    s = [1] * i + [0] * (100 - i)\n",
    "    assert task1_1(s) == task1_2(s)"
   ]
  },
  {
   "cell_type": "markdown",
   "metadata": {},
   "source": [
    "### Task 2:\n",
    "В нашей школе мы не можем разглашать персональные данные пользователей, но чтобы преподаватель и ученик смогли объяснить нашей поддержке, кого они имеют в виду (у преподавателей, например, часто учится несколько Саш), мы генерируем пользователям уникальные и легко произносимые имена. Имя у нас состоит из прилагательного, имени животного и двузначной цифры. В итоге получается, например, \"Перламутровый лосось 77\". Для генерации таких имен мы и решали следующую задачу:\n",
    "Получить с русской википедии список всех животных (Категория:Животные по алфавиту) и вывести количество животных на каждую букву алфавита. Результат должен получиться в следующем виде:\n",
    " ",
    "А: 642\n",
    "Б: 412\n",
    "В:....\n"
   ]
  },
  {
   "cell_type": "markdown",
   "metadata": {},
   "source": [
    "С помощью BeautifulSoup парсим первую страницу, находим, в каком тэге находится список животных. В задаче требуется вывести только количество животных на каждую букву алфавита, но моя программа получает также список названий одновременно с подсчетом. Затем, пока названия животных состоят из кириллических букв, переходим на следующую страницу и обновляем список животных и словарь количества названий на каждую букву."
   ]
  },
  {
   "cell_type": "code",
   "execution_count": 4,
   "metadata": {},
   "outputs": [],
   "source": [
    "import requests\n",
    "from bs4 import BeautifulSoup\n",
    "import re"
   ]
  },
  {
   "cell_type": "code",
   "execution_count": 5,
   "metadata": {},
   "outputs": [],
   "source": [
    "def parse_ul(ul, animals_list, letter_dict):\n",
    "    for tag in ul.find_all(\"li\", recursive=True):\n",
    "        animal_name = tag.text\n",
    "        if not re.search('[а-яА-Я]', animal_name):\n",
    "            return (-1)\n",
    "        first_letter = animal_name[0]\n",
    "        animals_list.append(animal_name)\n",
    "        if first_letter not in letter_dict:\n",
    "            letter_dict[first_letter] = 0\n",
    "        letter_dict[first_letter] += 1\n",
    "    return (0)"
   ]
  },
  {
   "cell_type": "code",
   "execution_count": 6,
   "metadata": {},
   "outputs": [],
   "source": [
    "def parse_wiki_animals():\n",
    "    animals_list = []\n",
    "    letter_dict = {}\n",
    "    url = 'https://ru.wikipedia.org/wiki/%D0%9A%D0%B0%D1%82%D0%B5%D0%B3%D0%BE%D1%80%D0%B8%D1%8F:%D0%96%D0%B8%D0%B2%D0%BE%D1%82%D0%BD%D1%8B%D0%B5_%D0%BF%D0%BE_%D0%B0%D0%BB%D1%84%D0%B0%D0%B2%D0%B8%D1%82%D1%83'\n",
    "    while True:\n",
    "        response = requests.get(url)\n",
    "        soup = BeautifulSoup(response.text, 'lxml')\n",
    "        s = soup.find_all(\"div\", {\"class\":\"mw-category-group\"})\n",
    "        answer = parse_ul(s[0].ul, animals_list, letter_dict)\n",
    "        if answer == 0:\n",
    "            url = 'https://ru.wikipedia.org/' + soup.find('a', text='Следующая страница')['href']\n",
    "        else:\n",
    "            break\n",
    "    return (animals_list, letter_dict)"
   ]
  },
  {
   "cell_type": "code",
   "execution_count": 7,
   "metadata": {},
   "outputs": [],
   "source": [
    "animals, letters = parse_wiki_animals()"
   ]
  },
  {
   "cell_type": "markdown",
   "metadata": {},
   "source": [
    "Чтобы буква Ё находилась на своём месте, пришлось немного изменить функцию сортировки."
   ]
  },
  {
   "cell_type": "code",
   "execution_count": 8,
   "metadata": {},
   "outputs": [
    {
     "name": "stdout",
     "output_type": "stream",
     "text": [
      "А: 1090\n",
      "Б: 1395\n",
      "В: 483\n",
      "Г: 820\n",
      "Д: 530\n",
      "Е: 27\n",
      "Ё: 2\n",
      "Ж: 211\n",
      "З: 395\n",
      "И: 322\n",
      "К: 2003\n",
      "Л: 469\n",
      "М: 1054\n",
      "Н: 287\n",
      "О: 618\n",
      "П: 1462\n",
      "Р: 390\n",
      "С: 1653\n",
      "Т: 766\n",
      "У: 197\n",
      "Ф: 169\n",
      "Х: 222\n",
      "Ц: 28\n",
      "Ч: 456\n",
      "Ш: 115\n",
      "Щ: 56\n",
      "Э: 51\n",
      "Я: 171\n"
     ]
    }
   ],
   "source": [
    "for key, value in sorted(letters.items(), key = lambda c: ord('Е') + 0.5 if c[0] == 'Ё' else ord(c[0])):\n",
    "    print(f'{key}: {value}')"
   ]
  },
  {
   "cell_type": "markdown",
   "metadata": {},
   "source": [
    "Можно проверить список животных:"
   ]
  },
  {
   "cell_type": "code",
   "execution_count": 9,
   "metadata": {},
   "outputs": [
    {
     "data": {
      "text/plain": [
       "['Блестящая улитка',\n",
       " 'Блестящегрудый усач',\n",
       " 'Блестящехвостые колибри',\n",
       " 'Блестящие златки',\n",
       " 'Блестящие лори',\n",
       " 'Блестящие скворцы',\n",
       " 'Блестящие чирки',\n",
       " 'Блестящий ворон',\n",
       " 'Блестящий гульман',\n",
       " 'Блестящий древесный уж',\n",
       " 'Блестящий древолаз',\n",
       " 'Блестящий дрозд',\n",
       " 'Блестящий клехо',\n",
       " 'Блестящий крючкоклюв',\n",
       " 'Блестящий лиолемус',\n",
       " 'Блестящий лори-кардинал',\n",
       " 'Блестящий малый трупиал',\n",
       " 'Блестящий муравей-древоточец',\n",
       " 'Блестящий расписной малюр',\n",
       " 'Блестящий фаэтончик']"
      ]
     },
     "execution_count": 9,
     "metadata": {},
     "output_type": "execute_result"
    }
   ],
   "source": [
    "animals[1740:1760]"
   ]
  },
  {
   "cell_type": "markdown",
   "metadata": {},
   "source": [
    "### Task 3:\n",
    "Мы сохраняем время присутствия каждого пользователя на уроке  виде интервалов. В функцию передается словарь, содержащий три списка с таймстемпами (время в секундах): \n",
    "— lesson – начало и конец урока \n",
    "— pupil – интервалы присутствия ученика \n",
    "— tutor – интервалы присутствия учителя \n",
    "Интервалы устроены следующим образом – это всегда список из четного количества элементов. Под четными индексами (начиная с 0) время входа на урок, под нечетными - время выхода с урока.\n",
    "Нужно написать функцию, которая получает на вход словарь с интервалами и возвращает время общего присутствия ученика и учителя на уроке (в секундах). \n"
   ]
  },
  {
   "cell_type": "markdown",
   "metadata": {},
   "source": [
    "Чтобы найти промежутки, во время которых на уроке были и ученик, и учитель, можно написать функцию, которая для двух списков таймстемпов в заданном формате находит их пересечения, а затем пересечь ученика и учителя, а получившиеся таймстемпы - с началом и концом урока:"
   ]
  },
  {
   "cell_type": "code",
   "execution_count": 10,
   "metadata": {},
   "outputs": [],
   "source": [
    "def intersect(pupil, tutor):\n",
    "    p = 0\n",
    "    t = 0\n",
    "    intersections = []\n",
    "    while True:\n",
    "        if p > len(pupil) - 2 or t > len(tutor) - 2:\n",
    "            break\n",
    "        if pupil[p + 1] <= tutor[t]:\n",
    "            p += 2\n",
    "        elif tutor[t + 1] <= pupil[p]:\n",
    "            t += 2\n",
    "        else:\n",
    "            intersections.append(max(pupil[p], tutor[t]))\n",
    "            intersections.append(min(pupil[p + 1], tutor[t + 1]))\n",
    "            if pupil[p + 1] == tutor[t + 1]:\n",
    "                p += 2\n",
    "                t += 2\n",
    "            elif pupil[p + 1] < tutor[t + 1]:\n",
    "                p += 2\n",
    "            else:\n",
    "                t += 2\n",
    "    return intersections"
   ]
  },
  {
   "cell_type": "markdown",
   "metadata": {},
   "source": [
    "На тестах стало понятно, что промежутки присутствия могут пересекаться внутри одного списка, поэтому их необходимо было объединить:"
   ]
  },
  {
   "cell_type": "code",
   "execution_count": 11,
   "metadata": {},
   "outputs": [],
   "source": [
    "def clean_intervals(intrv_list):\n",
    "    clean = []\n",
    "    low = intrv_list[0]\n",
    "    high = intrv_list[1]\n",
    "    for i in range(2, len(intrv_list) - 1, 2):\n",
    "        if intrv_list[i] <= high:\n",
    "            high = max(high, intrv_list[i + 1])\n",
    "        else:\n",
    "            clean.append(low)\n",
    "            clean.append(high)\n",
    "            low = intrv_list[i]\n",
    "            high = intrv_list[i + 1]\n",
    "    clean.append(low)\n",
    "    clean.append(high)\n",
    "    return (clean)"
   ]
  },
  {
   "cell_type": "markdown",
   "metadata": {},
   "source": [
    "Вызываем обе функции и считаем сумму нужного нам времени:"
   ]
  },
  {
   "cell_type": "code",
   "execution_count": 12,
   "metadata": {},
   "outputs": [],
   "source": [
    "def appearance(intervals):\n",
    "    p = clean_intervals(intervals['pupil'])\n",
    "    t = clean_intervals(intervals['tutor'])\n",
    "    p_t_intersect = intersect(p, t)\n",
    "    total_intersect = intersect(p_t_intersect, intervals['lesson'])\n",
    "    total = 0\n",
    "    for i in range(0, len(total_intersect) - 1, 2):\n",
    "        total += (total_intersect[i + 1] - total_intersect[i])\n",
    "    return total"
   ]
  },
  {
   "cell_type": "code",
   "execution_count": 13,
   "metadata": {},
   "outputs": [],
   "source": [
    "tests = [\n",
    "   {'data': {'lesson': [1594663200, 1594666800],\n",
    "             'pupil': [1594663340, 1594663389, 1594663390, 1594663395, 1594663396, 1594666472],\n",
    "             'tutor': [1594663290, 1594663430, 1594663443, 1594666473]},\n",
    "    'answer': 3117\n",
    "    },\n",
    "   {'data': {'lesson': [1594702800, 1594706400],\n",
    "             'pupil': [1594702789, 1594704500, 1594702807, 1594704542, 1594704512, 1594704513, 1594704564, 1594705150, 1594704581, 1594704582, 1594704734, 1594705009, 1594705095, 1594705096, 1594705106, 1594706480, 1594705158, 1594705773, 1594705849, 1594706480, 1594706500, 1594706875, 1594706502, 1594706503, 1594706524, 1594706524, 1594706579, 1594706641],\n",
    "             'tutor': [1594700035, 1594700364, 1594702749, 1594705148, 1594705149, 1594706463]},\n",
    "    'answer': 3577\n",
    "    },\n",
    "   {'data': {'lesson': [1594692000, 1594695600],\n",
    "             'pupil': [1594692033, 1594696347],\n",
    "             'tutor': [1594692017, 1594692066, 1594692068, 1594696341]},\n",
    "    'answer': 3565\n",
    "    },\n",
    "]\n",
    "\n",
    "if __name__ == '__main__':\n",
    "    for i, test in enumerate(tests):\n",
    "        test_answer = appearance(test['data'])\n",
    "        assert test_answer == test['answer'], f'Error on test case {i}, got {test_answer}, expected {test[\"answer\"]}'\n"
   ]
  },
  {
   "cell_type": "markdown",
   "metadata": {},
   "source": [
    "### Также эту функцию можно протестировать через API, запустить который можно из файла task3.py"
   ]
  }
 ],
 "metadata": {
  "kernelspec": {
   "display_name": "Python 3",
   "language": "python",
   "name": "python3"
  },
  "language_info": {
   "codemirror_mode": {
    "name": "ipython",
    "version": 3
   },
   "file_extension": ".py",
   "mimetype": "text/x-python",
   "name": "python",
   "nbconvert_exporter": "python",
   "pygments_lexer": "ipython3",
   "version": "3.8.5"
  }
 },
 "nbformat": 4,
 "nbformat_minor": 4
}
